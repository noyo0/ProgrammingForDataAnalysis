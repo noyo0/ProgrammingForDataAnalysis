{
 "cells": [
  {
   "cell_type": "markdown",
   "metadata": {},
   "source": [
    "# potential projects:\n",
    "+ Fuel consumption 2000-2022\n",
    "https://www.kaggle.com/datasets/ahmettyilmazz/fuel-consumption/data\n",
    "  + https://www.kaggle.com/code/arpitasinha12/fuel-consumption-eda\n",
    "\n",
    "\n",
    "+ UFO Sightings Around The World\n",
    "https://www.kaggle.com/datasets/jonwright13/ufo-sightings-around-the-world-better/code\n",
    "  + on maps: https://www.kaggle.com/code/mikedelong/ufo-sightings-on-maps\n",
    "  + EDA: https://www.kaggle.com/code/veetikoivuniemi/ufo-sightings-around-the-world-eda\n",
    "\n",
    "\n",
    "\n",
    "\n",
    "\n",
    "\n"
   ]
  }
 ],
 "metadata": {
  "language_info": {
   "name": "python"
  }
 },
 "nbformat": 4,
 "nbformat_minor": 2
}
